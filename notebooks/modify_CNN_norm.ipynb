{
  "cells": [
    {
      "cell_type": "markdown",
      "id": "7df762cf",
      "metadata": {
        "id": "7df762cf",
        "papermill": {
          "duration": 0.019217,
          "end_time": "2023-07-27T09:02:39.484154",
          "exception": false,
          "start_time": "2023-07-27T09:02:39.464937",
          "status": "completed"
        },
        "tags": []
      },
      "source": [
        "# Human Activity Recognition(HAR)\n",
        "\n",
        "- Reference article: https://towardsdatascience.com/human-activity-recognition-har-tutorial-with-keras-and-core-ml-part-1-8c05e365dfa0\n",
        "- Reference code: https://github.com/ni79ls/har-keras-coreml/blob/master/Human%20Activity%20Recognition%20with%20Keras%20and%20CoreML.ipynb\n",
        "- Dataset: https://www.cis.fordham.edu/wisdm/dataset.php\n",
        "\n",
        "---\n",
        "\n",
        "* Convert and reformat **accelerometer data** into a **time-sliced representation**\n",
        "* **Visualize** the accelerometer data\n",
        "* Reshape the **multi-dimensional tabular data**\n",
        "\n",
        "## Overview\n",
        "\n",
        "- **accelererometer data** from a smartphone\n",
        "    - x, y, z axis acceleration\n",
        "    - timestamp\n",
        "    - person ID\n",
        "- **6 acitivites**\n",
        "    - Walking\n",
        "    - Jogging\n",
        "    - Sitting\n",
        "    - Standing\n",
        "    - Upstairs\n",
        "    - DownStairs\n",
        "- **Model**: trained to classify between each of the 6 activities.\n",
        "    1. DNN\n",
        "    2. 1D CNN"
      ]
    },
    {
      "cell_type": "code",
      "execution_count": 35,
      "id": "9f9ed4d8",
      "metadata": {
        "execution": {
          "iopub.execute_input": "2023-07-27T09:02:49.265684Z",
          "iopub.status.busy": "2023-07-27T09:02:49.264249Z",
          "iopub.status.idle": "2023-07-27T09:02:50.655792Z",
          "shell.execute_reply": "2023-07-27T09:02:50.654786Z"
        },
        "id": "9f9ed4d8",
        "papermill": {
          "duration": 1.418131,
          "end_time": "2023-07-27T09:02:50.658595",
          "exception": false,
          "start_time": "2023-07-27T09:02:49.240464",
          "status": "completed"
        },
        "tags": []
      },
      "outputs": [],
      "source": [
        "import os\n",
        "import warnings\n",
        "warnings.filterwarnings(action='ignore')\n",
        "\n",
        "from __future__ import print_function\n",
        "from matplotlib import pyplot as plt\n",
        "%matplotlib inline\n",
        "import numpy as np\n",
        "import pandas as pd\n",
        "import seaborn as sns\n",
        "from scipy import stats\n",
        "from IPython.display import display, HTML\n",
        "\n",
        "from sklearn import metrics\n",
        "from sklearn.metrics import classification_report\n",
        "from sklearn import preprocessing\n",
        "\n",
        "# PyTorch Imports\n",
        "import torch\n",
        "import torch.nn as nn\n",
        "import torch.nn.functional as F\n",
        "import torch.optim as optim\n",
        "from torch.utils.data import TensorDataset, Dataset, DataLoader\n",
        "\n",
        "# Check if CUDA is available (for GPU usage)\n",
        "device = torch.device(\"cuda\" if torch.cuda.is_available() else \"cpu\")\n",
        "\n",
        "np.random.seed(42)\n"
      ]
    },
    {
      "cell_type": "markdown",
      "id": "791c6b8a",
      "metadata": {
        "id": "791c6b8a",
        "papermill": {
          "duration": 0.018859,
          "end_time": "2023-07-27T09:02:50.696506",
          "exception": false,
          "start_time": "2023-07-27T09:02:50.677647",
          "status": "completed"
        },
        "tags": []
      },
      "source": [
        "Constants\n",
        "- TIME_PERIODS: the length of the time segment\n",
        "- STEP_DISTANCE: the amount of overlap between two consecutive time segments"
      ]
    },
    {
      "cell_type": "code",
      "execution_count": 2,
      "id": "56d22378",
      "metadata": {
        "execution": {
          "iopub.execute_input": "2023-07-27T09:02:50.735477Z",
          "iopub.status.busy": "2023-07-27T09:02:50.735177Z",
          "iopub.status.idle": "2023-07-27T09:02:50.743320Z",
          "shell.execute_reply": "2023-07-27T09:02:50.742416Z"
        },
        "id": "56d22378",
        "papermill": {
          "duration": 0.03036,
          "end_time": "2023-07-27T09:02:50.745686",
          "exception": false,
          "start_time": "2023-07-27T09:02:50.715326",
          "status": "completed"
        },
        "tags": []
      },
      "outputs": [],
      "source": [
        "# Set some standard parameters upfront\n",
        "pd.options.display.float_format = '{:.1f}'.format\n",
        "sns.set() # Default seaborn look and feel\n",
        "plt.style.use('ggplot')\n",
        "\n",
        "# Class labels\n",
        "LABELS = ['Downstairs',\n",
        "          'Jogging',\n",
        "          'Sitting',\n",
        "          'Standing',\n",
        "          'Upstairs',\n",
        "          'Walking']\n",
        "\n",
        "TIME_PERIODS = 80  # The number of steps within one time segment\n",
        "\n",
        "# The steps to take from one segment to the next; if this value is equal to TIME_PERIODS,\n",
        "# then there is no overlap between the segments\n",
        "STEP_DISTANCE = 40\n",
        "\n",
        "#print('torch version ', torch.__version__)\n"
      ]
    },
    {
      "cell_type": "markdown",
      "id": "badec1e3",
      "metadata": {
        "id": "badec1e3",
        "papermill": {
          "duration": 0.018357,
          "end_time": "2023-07-27T09:02:50.782466",
          "exception": false,
          "start_time": "2023-07-27T09:02:50.764109",
          "status": "completed"
        },
        "tags": []
      },
      "source": [
        "# Data\n",
        "\n",
        "I used `/kaggle/input/activitydetectionimusensor/WISDM_ar_v1.1.1_raw.txt` data.\n",
        "> (another dataset (later): `/kaggle/input/human-activity-recognition/time_series_data_human_activities.csv`)"
      ]
    },
    {
      "cell_type": "code",
      "execution_count": 36,
      "id": "10055c14",
      "metadata": {
        "execution": {
          "iopub.execute_input": "2023-07-27T09:02:50.821538Z",
          "iopub.status.busy": "2023-07-27T09:02:50.820683Z",
          "iopub.status.idle": "2023-07-27T09:02:50.829051Z",
          "shell.execute_reply": "2023-07-27T09:02:50.828192Z"
        },
        "id": "10055c14",
        "papermill": {
          "duration": 0.030141,
          "end_time": "2023-07-27T09:02:50.831196",
          "exception": false,
          "start_time": "2023-07-27T09:02:50.801055",
          "status": "completed"
        },
        "tags": []
      },
      "outputs": [],
      "source": [
        "# Define some functions to read the data and show some basic info about the data\n",
        "\n",
        "def read_data(file_path):\n",
        "    column_names = ['user', 'activity', 'timestamp', 'x-axis', 'y-axis', 'z-axis']\n",
        "    df = pd.read_csv(file_path, header=None, names=column_names)\n",
        "    # Last column has a \";\" character which must be removed\n",
        "    df['z-axis'].replace(regex=True,\n",
        "                         inplace=True,\n",
        "                         to_replace=r';',\n",
        "                         value=r'')\n",
        "    # Transform 'z-axis' column to float\n",
        "    df['z-axis'] = df['z-axis'].apply(convert_to_float)\n",
        "\n",
        "    df.dropna(axis=0, how='any', inplace=True)  # Drop NaN values\n",
        "\n",
        "    return df\n",
        "\n",
        "def convert_to_float(x):\n",
        "    try:\n",
        "        return np.float32(x)\n",
        "    except:\n",
        "        return np.nan\n",
        "\n",
        "def show_basic_dataframe_info(dataframe):\n",
        "    # Shape: #_rows, #_columns\n",
        "    print(\"Number of rows in the dataframe: %i\" % (dataframe.shape[0]))\n",
        "    print(\"Number of columns in the dataframe: %i\" % (dataframe.shape[1]))\n"
      ]
    },
    {
      "cell_type": "markdown",
      "id": "7d58df01",
      "metadata": {
        "id": "7d58df01",
        "papermill": {
          "duration": 0.018348,
          "end_time": "2023-07-27T09:02:50.867884",
          "exception": false,
          "start_time": "2023-07-27T09:02:50.849536",
          "status": "completed"
        },
        "tags": []
      },
      "source": [
        "The data can be downloaded from **[here](https://www.kaggle.com/datasets/sosoyeong/wisdm-raw)**.\n",
        "\n",
        "Then 'file_path' the directory to where you have put the data."
      ]
    },
    {
      "cell_type": "code",
      "execution_count": 37,
      "id": "3eccad33",
      "metadata": {
        "colab": {
          "base_uri": "https://localhost:8080/"
        },
        "execution": {
          "iopub.execute_input": "2023-07-27T09:02:50.906163Z",
          "iopub.status.busy": "2023-07-27T09:02:50.905870Z",
          "iopub.status.idle": "2023-07-27T09:02:57.959502Z",
          "shell.execute_reply": "2023-07-27T09:02:57.958500Z"
        },
        "id": "3eccad33",
        "outputId": "79678a0b-dcfe-4e42-9455-2ae385d5c9c5",
        "papermill": {
          "duration": 7.075861,
          "end_time": "2023-07-27T09:02:57.962214",
          "exception": false,
          "start_time": "2023-07-27T09:02:50.886353",
          "status": "completed"
        },
        "tags": []
      },
      "outputs": [],
      "source": [
        "file_path = '../data/WISDM_ar_v1.1_raw.txt'\n",
        "df = read_data(file_path)"
      ]
    },
    {
      "cell_type": "code",
      "execution_count": 38,
      "id": "1f0e426a",
      "metadata": {
        "colab": {
          "base_uri": "https://localhost:8080/",
          "height": 393
        },
        "execution": {
          "iopub.execute_input": "2023-07-27T09:02:58.007327Z",
          "iopub.status.busy": "2023-07-27T09:02:58.005000Z",
          "iopub.status.idle": "2023-07-27T09:02:58.027416Z",
          "shell.execute_reply": "2023-07-27T09:02:58.025887Z"
        },
        "id": "1f0e426a",
        "outputId": "f9ef07f0-bd07-4198-d958-21ca924a49df",
        "papermill": {
          "duration": 0.049727,
          "end_time": "2023-07-27T09:02:58.032352",
          "exception": false,
          "start_time": "2023-07-27T09:02:57.982625",
          "status": "completed"
        },
        "tags": []
      },
      "outputs": [
        {
          "name": "stdout",
          "output_type": "stream",
          "text": [
            "Number of rows in the dataframe: 1098208\n",
            "Number of columns in the dataframe: 6\n"
          ]
        },
        {
          "data": {
            "text/html": [
              "<div>\n",
              "<style scoped>\n",
              "    .dataframe tbody tr th:only-of-type {\n",
              "        vertical-align: middle;\n",
              "    }\n",
              "\n",
              "    .dataframe tbody tr th {\n",
              "        vertical-align: top;\n",
              "    }\n",
              "\n",
              "    .dataframe thead th {\n",
              "        text-align: right;\n",
              "    }\n",
              "</style>\n",
              "<table border=\"1\" class=\"dataframe\">\n",
              "  <thead>\n",
              "    <tr style=\"text-align: right;\">\n",
              "      <th></th>\n",
              "      <th>user</th>\n",
              "      <th>activity</th>\n",
              "      <th>timestamp</th>\n",
              "      <th>x-axis</th>\n",
              "      <th>y-axis</th>\n",
              "      <th>z-axis</th>\n",
              "    </tr>\n",
              "  </thead>\n",
              "  <tbody>\n",
              "    <tr>\n",
              "      <th>0</th>\n",
              "      <td>33</td>\n",
              "      <td>Jogging</td>\n",
              "      <td>49105962326000</td>\n",
              "      <td>-0.7</td>\n",
              "      <td>12.7</td>\n",
              "      <td>0.5</td>\n",
              "    </tr>\n",
              "    <tr>\n",
              "      <th>1</th>\n",
              "      <td>33</td>\n",
              "      <td>Jogging</td>\n",
              "      <td>49106062271000</td>\n",
              "      <td>5.0</td>\n",
              "      <td>11.3</td>\n",
              "      <td>1.0</td>\n",
              "    </tr>\n",
              "    <tr>\n",
              "      <th>2</th>\n",
              "      <td>33</td>\n",
              "      <td>Jogging</td>\n",
              "      <td>49106112167000</td>\n",
              "      <td>4.9</td>\n",
              "      <td>10.9</td>\n",
              "      <td>-0.1</td>\n",
              "    </tr>\n",
              "    <tr>\n",
              "      <th>3</th>\n",
              "      <td>33</td>\n",
              "      <td>Jogging</td>\n",
              "      <td>49106222305000</td>\n",
              "      <td>-0.6</td>\n",
              "      <td>18.5</td>\n",
              "      <td>3.0</td>\n",
              "    </tr>\n",
              "    <tr>\n",
              "      <th>4</th>\n",
              "      <td>33</td>\n",
              "      <td>Jogging</td>\n",
              "      <td>49106332290000</td>\n",
              "      <td>-1.2</td>\n",
              "      <td>12.1</td>\n",
              "      <td>7.2</td>\n",
              "    </tr>\n",
              "    <tr>\n",
              "      <th>5</th>\n",
              "      <td>33</td>\n",
              "      <td>Jogging</td>\n",
              "      <td>49106442306000</td>\n",
              "      <td>1.4</td>\n",
              "      <td>-2.5</td>\n",
              "      <td>-6.5</td>\n",
              "    </tr>\n",
              "    <tr>\n",
              "      <th>6</th>\n",
              "      <td>33</td>\n",
              "      <td>Jogging</td>\n",
              "      <td>49106542312000</td>\n",
              "      <td>-0.6</td>\n",
              "      <td>10.6</td>\n",
              "      <td>5.7</td>\n",
              "    </tr>\n",
              "    <tr>\n",
              "      <th>7</th>\n",
              "      <td>33</td>\n",
              "      <td>Jogging</td>\n",
              "      <td>49106652389000</td>\n",
              "      <td>-0.5</td>\n",
              "      <td>13.9</td>\n",
              "      <td>7.1</td>\n",
              "    </tr>\n",
              "    <tr>\n",
              "      <th>8</th>\n",
              "      <td>33</td>\n",
              "      <td>Jogging</td>\n",
              "      <td>49106762313000</td>\n",
              "      <td>-8.4</td>\n",
              "      <td>11.4</td>\n",
              "      <td>5.1</td>\n",
              "    </tr>\n",
              "    <tr>\n",
              "      <th>9</th>\n",
              "      <td>33</td>\n",
              "      <td>Jogging</td>\n",
              "      <td>49106872299000</td>\n",
              "      <td>1.0</td>\n",
              "      <td>1.4</td>\n",
              "      <td>1.6</td>\n",
              "    </tr>\n",
              "  </tbody>\n",
              "</table>\n",
              "</div>"
            ],
            "text/plain": [
              "   user activity       timestamp  x-axis  y-axis  z-axis\n",
              "0    33  Jogging  49105962326000    -0.7    12.7     0.5\n",
              "1    33  Jogging  49106062271000     5.0    11.3     1.0\n",
              "2    33  Jogging  49106112167000     4.9    10.9    -0.1\n",
              "3    33  Jogging  49106222305000    -0.6    18.5     3.0\n",
              "4    33  Jogging  49106332290000    -1.2    12.1     7.2\n",
              "5    33  Jogging  49106442306000     1.4    -2.5    -6.5\n",
              "6    33  Jogging  49106542312000    -0.6    10.6     5.7\n",
              "7    33  Jogging  49106652389000    -0.5    13.9     7.1\n",
              "8    33  Jogging  49106762313000    -8.4    11.4     5.1\n",
              "9    33  Jogging  49106872299000     1.0     1.4     1.6"
            ]
          },
          "execution_count": 38,
          "metadata": {},
          "output_type": "execute_result"
        }
      ],
      "source": [
        "show_basic_dataframe_info(df)\n",
        "df.head(10)"
      ]
    },
    {
      "cell_type": "code",
      "execution_count": 39,
      "id": "8f7930f5",
      "metadata": {
        "colab": {
          "base_uri": "https://localhost:8080/",
          "height": 204
        },
        "execution": {
          "iopub.execute_input": "2023-07-27T09:03:05.327779Z",
          "iopub.status.busy": "2023-07-27T09:03:05.327190Z",
          "iopub.status.idle": "2023-07-27T09:03:05.840682Z",
          "shell.execute_reply": "2023-07-27T09:03:05.839608Z"
        },
        "id": "8f7930f5",
        "outputId": "ca28c9ff-b122-4257-8b0a-c94c9926f74d",
        "papermill": {
          "duration": 0.568383,
          "end_time": "2023-07-27T09:03:05.844062",
          "exception": false,
          "start_time": "2023-07-27T09:03:05.275679",
          "status": "completed"
        },
        "tags": []
      },
      "outputs": [
        {
          "data": {
            "text/html": [
              "<div>\n",
              "<style scoped>\n",
              "    .dataframe tbody tr th:only-of-type {\n",
              "        vertical-align: middle;\n",
              "    }\n",
              "\n",
              "    .dataframe tbody tr th {\n",
              "        vertical-align: top;\n",
              "    }\n",
              "\n",
              "    .dataframe thead th {\n",
              "        text-align: right;\n",
              "    }\n",
              "</style>\n",
              "<table border=\"1\" class=\"dataframe\">\n",
              "  <thead>\n",
              "    <tr style=\"text-align: right;\">\n",
              "      <th></th>\n",
              "      <th>user</th>\n",
              "      <th>activity</th>\n",
              "      <th>timestamp</th>\n",
              "      <th>x-axis</th>\n",
              "      <th>y-axis</th>\n",
              "      <th>z-axis</th>\n",
              "      <th>ActivityEncoded</th>\n",
              "    </tr>\n",
              "  </thead>\n",
              "  <tbody>\n",
              "    <tr>\n",
              "      <th>0</th>\n",
              "      <td>33</td>\n",
              "      <td>Jogging</td>\n",
              "      <td>49105962326000</td>\n",
              "      <td>-0.7</td>\n",
              "      <td>12.7</td>\n",
              "      <td>0.5</td>\n",
              "      <td>1</td>\n",
              "    </tr>\n",
              "    <tr>\n",
              "      <th>1</th>\n",
              "      <td>33</td>\n",
              "      <td>Jogging</td>\n",
              "      <td>49106062271000</td>\n",
              "      <td>5.0</td>\n",
              "      <td>11.3</td>\n",
              "      <td>1.0</td>\n",
              "      <td>1</td>\n",
              "    </tr>\n",
              "    <tr>\n",
              "      <th>2</th>\n",
              "      <td>33</td>\n",
              "      <td>Jogging</td>\n",
              "      <td>49106112167000</td>\n",
              "      <td>4.9</td>\n",
              "      <td>10.9</td>\n",
              "      <td>-0.1</td>\n",
              "      <td>1</td>\n",
              "    </tr>\n",
              "    <tr>\n",
              "      <th>3</th>\n",
              "      <td>33</td>\n",
              "      <td>Jogging</td>\n",
              "      <td>49106222305000</td>\n",
              "      <td>-0.6</td>\n",
              "      <td>18.5</td>\n",
              "      <td>3.0</td>\n",
              "      <td>1</td>\n",
              "    </tr>\n",
              "    <tr>\n",
              "      <th>4</th>\n",
              "      <td>33</td>\n",
              "      <td>Jogging</td>\n",
              "      <td>49106332290000</td>\n",
              "      <td>-1.2</td>\n",
              "      <td>12.1</td>\n",
              "      <td>7.2</td>\n",
              "      <td>1</td>\n",
              "    </tr>\n",
              "  </tbody>\n",
              "</table>\n",
              "</div>"
            ],
            "text/plain": [
              "   user activity       timestamp  x-axis  y-axis  z-axis  ActivityEncoded\n",
              "0    33  Jogging  49105962326000    -0.7    12.7     0.5                1\n",
              "1    33  Jogging  49106062271000     5.0    11.3     1.0                1\n",
              "2    33  Jogging  49106112167000     4.9    10.9    -0.1                1\n",
              "3    33  Jogging  49106222305000    -0.6    18.5     3.0                1\n",
              "4    33  Jogging  49106332290000    -1.2    12.1     7.2                1"
            ]
          },
          "execution_count": 39,
          "metadata": {},
          "output_type": "execute_result"
        }
      ],
      "source": [
        "LABEL = 'ActivityEncoded' # from 0 to 5\n",
        "\n",
        "le = preprocessing.LabelEncoder()  # string to Integer\n",
        "df[LABEL] = le.fit_transform(df['activity'].values.ravel())\n",
        "\n",
        "df.head()"
      ]
    },
    {
      "cell_type": "code",
      "execution_count": 40,
      "id": "61bdc01d",
      "metadata": {
        "execution": {
          "iopub.execute_input": "2023-07-27T09:03:05.975168Z",
          "iopub.status.busy": "2023-07-27T09:03:05.974705Z",
          "iopub.status.idle": "2023-07-27T09:03:06.065726Z",
          "shell.execute_reply": "2023-07-27T09:03:06.064718Z"
        },
        "id": "61bdc01d",
        "papermill": {
          "duration": 0.160364,
          "end_time": "2023-07-27T09:03:06.069110",
          "exception": false,
          "start_time": "2023-07-27T09:03:05.908746",
          "status": "completed"
        },
        "tags": []
      },
      "outputs": [],
      "source": [
        "# Split data into train and test set\n",
        "# train: user 1 ~ 28\n",
        "# test: user 28 ~\n",
        "\n",
        "df_train = df[df['user'] <= 28]\n",
        "df_test = df[df['user'] > 28]"
      ]
    },
    {
      "cell_type": "code",
      "execution_count": 41,
      "id": "704431b1",
      "metadata": {
        "colab": {
          "base_uri": "https://localhost:8080/",
          "height": 204
        },
        "execution": {
          "iopub.execute_input": "2023-07-27T09:03:06.188140Z",
          "iopub.status.busy": "2023-07-27T09:03:06.187700Z",
          "iopub.status.idle": "2023-07-27T09:03:06.299903Z",
          "shell.execute_reply": "2023-07-27T09:03:06.298781Z"
        },
        "id": "704431b1",
        "outputId": "62175f77-5514-4d35-ab8d-c937870abee8",
        "papermill": {
          "duration": 0.174216,
          "end_time": "2023-07-27T09:03:06.302462",
          "exception": false,
          "start_time": "2023-07-27T09:03:06.128246",
          "status": "completed"
        },
        "tags": []
      },
      "outputs": [
        {
          "data": {
            "text/html": [
              "<div>\n",
              "<style scoped>\n",
              "    .dataframe tbody tr th:only-of-type {\n",
              "        vertical-align: middle;\n",
              "    }\n",
              "\n",
              "    .dataframe tbody tr th {\n",
              "        vertical-align: top;\n",
              "    }\n",
              "\n",
              "    .dataframe thead th {\n",
              "        text-align: right;\n",
              "    }\n",
              "</style>\n",
              "<table border=\"1\" class=\"dataframe\">\n",
              "  <thead>\n",
              "    <tr style=\"text-align: right;\">\n",
              "      <th></th>\n",
              "      <th>user</th>\n",
              "      <th>activity</th>\n",
              "      <th>timestamp</th>\n",
              "      <th>x-axis</th>\n",
              "      <th>y-axis</th>\n",
              "      <th>z-axis</th>\n",
              "      <th>ActivityEncoded</th>\n",
              "    </tr>\n",
              "  </thead>\n",
              "  <tbody>\n",
              "    <tr>\n",
              "      <th>8489</th>\n",
              "      <td>17</td>\n",
              "      <td>Walking</td>\n",
              "      <td>57869902574000</td>\n",
              "      <td>0.0</td>\n",
              "      <td>0.5</td>\n",
              "      <td>-0.0</td>\n",
              "      <td>5</td>\n",
              "    </tr>\n",
              "    <tr>\n",
              "      <th>8490</th>\n",
              "      <td>17</td>\n",
              "      <td>Walking</td>\n",
              "      <td>57870012316000</td>\n",
              "      <td>-0.0</td>\n",
              "      <td>0.5</td>\n",
              "      <td>-0.0</td>\n",
              "      <td>5</td>\n",
              "    </tr>\n",
              "    <tr>\n",
              "      <th>8491</th>\n",
              "      <td>17</td>\n",
              "      <td>Walking</td>\n",
              "      <td>57870122301000</td>\n",
              "      <td>-0.0</td>\n",
              "      <td>0.5</td>\n",
              "      <td>-0.0</td>\n",
              "      <td>5</td>\n",
              "    </tr>\n",
              "    <tr>\n",
              "      <th>8492</th>\n",
              "      <td>17</td>\n",
              "      <td>Walking</td>\n",
              "      <td>57870222246000</td>\n",
              "      <td>0.0</td>\n",
              "      <td>0.5</td>\n",
              "      <td>-0.0</td>\n",
              "      <td>5</td>\n",
              "    </tr>\n",
              "    <tr>\n",
              "      <th>8493</th>\n",
              "      <td>17</td>\n",
              "      <td>Walking</td>\n",
              "      <td>57870332292000</td>\n",
              "      <td>0.0</td>\n",
              "      <td>0.5</td>\n",
              "      <td>-0.0</td>\n",
              "      <td>5</td>\n",
              "    </tr>\n",
              "  </tbody>\n",
              "</table>\n",
              "</div>"
            ],
            "text/plain": [
              "      user activity       timestamp  x-axis  y-axis  z-axis  ActivityEncoded\n",
              "8489    17  Walking  57869902574000     0.0     0.5    -0.0                5\n",
              "8490    17  Walking  57870012316000    -0.0     0.5    -0.0                5\n",
              "8491    17  Walking  57870122301000    -0.0     0.5    -0.0                5\n",
              "8492    17  Walking  57870222246000     0.0     0.5    -0.0                5\n",
              "8493    17  Walking  57870332292000     0.0     0.5    -0.0                5"
            ]
          },
          "execution_count": 41,
          "metadata": {},
          "output_type": "execute_result"
        }
      ],
      "source": [
        "# normalize train data (value range: 0 ~ 1)\n",
        "# normalization should be applied to test data in the same way\n",
        "pd.options.mode.chained_assignment = None  # defual='warm'\n",
        "\n",
        "df_train['x-axis'] = df_train['x-axis'] / df_train['x-axis'].max()\n",
        "df_train['y-axis'] = df_train['y-axis'] / df_train['y-axis'].max()\n",
        "df_train['z-axis'] = df_train['z-axis'] / df_train['z-axis'].max()\n",
        "\n",
        "\n",
        "# round numbers\n",
        "df_train = df_train.round({'x-axis':4, 'y-axis':4, 'z-axis': 4})\n",
        "df_train.head()"
      ]
    },
    {
      "cell_type": "markdown",
      "id": "422eb09a",
      "metadata": {
        "id": "422eb09a",
        "papermill": {
          "duration": 0.037581,
          "end_time": "2023-07-27T09:03:06.381624",
          "exception": false,
          "start_time": "2023-07-27T09:03:06.344043",
          "status": "completed"
        },
        "tags": []
      },
      "source": [
        "Still the dataframe is not ready yet to be fed into a neural network.\n",
        "\n",
        "So, we need to reshape it."
      ]
    },
    {
      "cell_type": "code",
      "execution_count": 42,
      "id": "3a3f849b",
      "metadata": {
        "execution": {
          "iopub.execute_input": "2023-07-27T09:03:06.461449Z",
          "iopub.status.busy": "2023-07-27T09:03:06.461019Z",
          "iopub.status.idle": "2023-07-27T09:03:11.114282Z",
          "shell.execute_reply": "2023-07-27T09:03:11.113331Z"
        },
        "id": "3a3f849b",
        "papermill": {
          "duration": 4.696797,
          "end_time": "2023-07-27T09:03:11.116654",
          "exception": false,
          "start_time": "2023-07-27T09:03:06.419857",
          "status": "completed"
        },
        "tags": []
      },
      "outputs": [],
      "source": [
        "# 80 steps => 4 sec (0.05 * 80 = 4)\n",
        "\n",
        "def create_segments_and_labels(df, time_steps, step, label_name):\n",
        "    # x, y, z acceleration as features\n",
        "    N_FEATURES = 3\n",
        "\n",
        "    # Number of steps to advance in each iteration\n",
        "    # step = time_steps # no overlap between segments\n",
        "\n",
        "    segments = []\n",
        "    labels = []\n",
        "    for i in range(0, len(df) - time_steps, step):\n",
        "        xs = df['x-axis'].values[i: i + time_steps]\n",
        "        ys = df['y-axis'].values[i: i + time_steps]\n",
        "        zs = df['z-axis'].values[i: i + time_steps]\n",
        "\n",
        "        # find the most often used label in this segment\n",
        "        label_mode_result = stats.mode(df[label_name][i: i + time_steps])\n",
        "        if np.isscalar(label_mode_result.mode):\n",
        "            label = label_mode_result.mode\n",
        "        else:\n",
        "            label = label_mode_result.mode[0]\n",
        "\n",
        "        segments.append([xs, ys, zs])\n",
        "        labels.append(label)\n",
        "\n",
        "    # bring the segments into a better shape\n",
        "    reshaped_segments = np.asarray(segments, dtype=np.float32).reshape(-1, time_steps, N_FEATURES)\n",
        "    labels = np.asarray(labels)\n",
        "\n",
        "    return reshaped_segments, labels  # x, y\n",
        "\n",
        "\n",
        "x_train, y_train = create_segments_and_labels(df_train,\n",
        "                                              TIME_PERIODS,\n",
        "                                              STEP_DISTANCE,\n",
        "                                              LABEL)  # LABEL = 'ActivityEncoded'\n",
        "\n",
        "x_test, y_test = create_segments_and_labels(df_test,\n",
        "                                            TIME_PERIODS,\n",
        "                                            STEP_DISTANCE,\n",
        "                                            LABEL)"
      ]
    },
    {
      "cell_type": "code",
      "execution_count": 43,
      "id": "487d0f60",
      "metadata": {
        "colab": {
          "base_uri": "https://localhost:8080/"
        },
        "execution": {
          "iopub.execute_input": "2023-07-27T09:03:11.488885Z",
          "iopub.status.busy": "2023-07-27T09:03:11.488038Z",
          "iopub.status.idle": "2023-07-27T09:03:11.494078Z",
          "shell.execute_reply": "2023-07-27T09:03:11.493116Z"
        },
        "id": "487d0f60",
        "outputId": "a234af3e-64a8-4a57-ce65-e6e89c0d0e87",
        "papermill": {
          "duration": 0.045104,
          "end_time": "2023-07-27T09:03:11.496958",
          "exception": false,
          "start_time": "2023-07-27T09:03:11.451854",
          "status": "completed"
        },
        "tags": []
      },
      "outputs": [
        {
          "name": "stdout",
          "output_type": "stream",
          "text": [
            "['Downstairs', 'Jogging', 'Sitting', 'Standing', 'Upstairs', 'Walking']\n",
            "80 3\n"
          ]
        }
      ],
      "source": [
        "# input, output dimensions\n",
        "n_time_periods, n_sensors = x_train.shape[1], x_train.shape[2]\n",
        "n_classes = le.classes_.size\n",
        "print(list(le.classes_))\n",
        "print(n_time_periods, n_sensors)"
      ]
    },
    {
      "cell_type": "markdown",
      "id": "56c19550",
      "metadata": {
        "id": "56c19550",
        "papermill": {
          "duration": 0.034423,
          "end_time": "2023-07-27T09:03:11.566432",
          "exception": false,
          "start_time": "2023-07-27T09:03:11.532009",
          "status": "completed"
        },
        "tags": []
      },
      "source": [
        "The input data is 2D (80x3).\n"
      ]
    },
    {
      "cell_type": "code",
      "execution_count": 44,
      "id": "2f2d2e67",
      "metadata": {
        "colab": {
          "base_uri": "https://localhost:8080/"
        },
        "execution": {
          "iopub.execute_input": "2023-07-27T09:03:11.639734Z",
          "iopub.status.busy": "2023-07-27T09:03:11.638748Z",
          "iopub.status.idle": "2023-07-27T09:03:11.645261Z",
          "shell.execute_reply": "2023-07-27T09:03:11.643957Z"
        },
        "id": "2f2d2e67",
        "outputId": "f34f6873-3b44-4376-d8ba-783e129ba57c",
        "papermill": {
          "duration": 0.045879,
          "end_time": "2023-07-27T09:03:11.647366",
          "exception": false,
          "start_time": "2023-07-27T09:03:11.601487",
          "status": "completed"
        },
        "tags": []
      },
      "outputs": [
        {
          "name": "stdout",
          "output_type": "stream",
          "text": [
            "x_train shape: (20868, 240)\n",
            "input shape: 240\n"
          ]
        }
      ],
      "source": [
        "input_shape = (n_time_periods * n_sensors)\n",
        "x_train = x_train.reshape(x_train.shape[0], input_shape)\n",
        "print('x_train shape:', x_train.shape)\n",
        "print('input shape:', input_shape)"
      ]
    },
    {
      "cell_type": "code",
      "execution_count": 45,
      "id": "dd9d9570",
      "metadata": {
        "execution": {
          "iopub.execute_input": "2023-07-27T09:03:11.719841Z",
          "iopub.status.busy": "2023-07-27T09:03:11.718851Z",
          "iopub.status.idle": "2023-07-27T09:03:11.728039Z",
          "shell.execute_reply": "2023-07-27T09:03:11.726994Z"
        },
        "id": "dd9d9570",
        "papermill": {
          "duration": 0.048205,
          "end_time": "2023-07-27T09:03:11.730307",
          "exception": false,
          "start_time": "2023-07-27T09:03:11.682102",
          "status": "completed"
        },
        "tags": []
      },
      "outputs": [],
      "source": [
        "x_train = x_train.astype('float32')\n",
        "y_train = y_train.astype('float32')"
      ]
    },
    {
      "cell_type": "code",
      "execution_count": 46,
      "id": "2e623afa",
      "metadata": {
        "colab": {
          "base_uri": "https://localhost:8080/"
        },
        "execution": {
          "iopub.execute_input": "2023-07-27T09:03:11.803742Z",
          "iopub.status.busy": "2023-07-27T09:03:11.802657Z",
          "iopub.status.idle": "2023-07-27T09:03:11.809919Z",
          "shell.execute_reply": "2023-07-27T09:03:11.808425Z"
        },
        "id": "2e623afa",
        "outputId": "350c4b37-86f1-4c4d-cca6-d2d92121de6f",
        "papermill": {
          "duration": 0.047459,
          "end_time": "2023-07-27T09:03:11.812087",
          "exception": false,
          "start_time": "2023-07-27T09:03:11.764628",
          "status": "completed"
        },
        "tags": []
      },
      "outputs": [
        {
          "name": "stdout",
          "output_type": "stream",
          "text": [
            "New y_train shape:  torch.Size([20868, 6])\n"
          ]
        }
      ],
      "source": [
        "# This function transforms integer y classes into one-hot-encoded vectors\n",
        "def to_categorical(y, num_classes):\n",
        "    return torch.eye(num_classes)[y]\n",
        "\n",
        "n_classes = len(np.unique(y_train))  # Assuming y_train is available and contains your class labels\n",
        "y_train_hot = to_categorical(y_train, n_classes)\n",
        "\n",
        "print('New y_train shape: ', y_train_hot.shape)"
      ]
    },
    {
      "cell_type": "markdown",
      "id": "cfedc950",
      "metadata": {
        "id": "cfedc950",
        "papermill": {
          "duration": 0.059228,
          "end_time": "2023-07-27T09:03:44.632587",
          "exception": false,
          "start_time": "2023-07-27T09:03:44.573359",
          "status": "completed"
        },
        "tags": []
      },
      "source": [
        "---"
      ]
    },
    {
      "cell_type": "markdown",
      "id": "f69616ae",
      "metadata": {
        "id": "f69616ae",
        "papermill": {
          "duration": 0.05949,
          "end_time": "2023-07-27T09:03:44.749940",
          "exception": false,
          "start_time": "2023-07-27T09:03:44.690450",
          "status": "completed"
        },
        "tags": []
      },
      "source": [
        "# 1D CNN\n",
        "\n",
        "* Reference article: https://blog.goodaudience.com/introduction-to-1d-convolutional-neural-networks-in-keras-for-time-sequences-3a7ff801a2cf\n",
        "* Reference code: https://github.com/ni79ls/har-keras-cnn/blob/master/20180903_Keras_HAR_WISDM_CNN_v1.0_for_medium.py\n",
        "\n",
        " A 1D CNN is very effective when you expect to derive interesting features from shorter (fixed-length) segments of the overall data set and where the location of the feature within the segment is not of high relevance.\n",
        "\n",
        "\n",
        "This applies well to the analysis of time sequences of sensor data (such as gyroscope or accelerometer data). It also applies to the analysis of any kind of signal data over a fixed-length period (such as audio signals).\n"
      ]
    },
    {
      "cell_type": "code",
      "execution_count": 47,
      "id": "56ccf197",
      "metadata": {},
      "outputs": [],
      "source": [
        "# Define 3 DataLoader : train, validation and test\n",
        "np.random.seed(42)\n",
        "\n",
        "from torch.utils.data import random_split\n",
        "\n",
        "# Convert your numpy arrays to PyTorch tensors\n",
        "x_train_tensor = torch.tensor(x_train, dtype=torch.float32)\n",
        "y_train_tensor = torch.tensor(y_train, dtype=torch.long)  # long for CrossEntropyLoss\n",
        "x_test_tensor = torch.tensor(x_test, dtype=torch.float32)\n",
        "y_test_tensor = torch.tensor(y_test, dtype=torch.long)\n",
        "\n",
        "# Create TensorDatasets\n",
        "train_dataset = TensorDataset(x_train_tensor, y_train_tensor)\n",
        "test_dataset = TensorDataset(x_test_tensor, y_test_tensor)\n",
        "\n",
        "# Define validation dataset\n",
        "total_train_size = len(train_dataset)\n",
        "train_size = int(0.8 * total_train_size)\n",
        "val_size = total_train_size - train_size\n",
        "\n",
        "# Redefine train and validation TensorDatasets\n",
        "train_dataset, val_dataset = random_split(train_dataset, [train_size, val_size])\n",
        "\n",
        "# Create DataLoaders\n",
        "batch_size = 400  # You can change this value as per your need : number of samples that will be processed in each iteration during training or testing\n",
        "train_loader = DataLoader(train_dataset, batch_size=batch_size, shuffle=True)\n",
        "val_loader = DataLoader(val_dataset, batch_size=batch_size, shuffle=False)\n",
        "test_loader = DataLoader(test_dataset, batch_size=batch_size, shuffle=False)"
      ]
    },
    {
      "cell_type": "code",
      "execution_count": 48,
      "id": "260b7843",
      "metadata": {},
      "outputs": [
        {
          "name": "stdout",
          "output_type": "stream",
          "text": [
            "MyConvModel(\n",
            "  (activation_function): ReLU()\n",
            "  (conv_layers): ModuleList(\n",
            "    (0): Conv1d(3, 100, kernel_size=(5,), stride=(1,), padding=(5,))\n",
            "    (1): ReLU()\n",
            "    (2): Conv1d(100, 100, kernel_size=(5,), stride=(1,), padding=(5,))\n",
            "    (3): ReLU()\n",
            "    (4): Conv1d(100, 160, kernel_size=(5,), stride=(1,), padding=(5,))\n",
            "    (5): ReLU()\n",
            "    (6): Conv1d(160, 160, kernel_size=(5,), stride=(1,), padding=(5,))\n",
            "    (7): ReLU()\n",
            "    (8): Conv1d(160, 160, kernel_size=(5,), stride=(1,), padding=(5,))\n",
            "    (9): ReLU()\n",
            "  )\n",
            "  (pool): AvgPool1d(kernel_size=(3,), stride=(3,), padding=(0,))\n",
            "  (dropout): Dropout(p=0.5, inplace=False)\n",
            "  (avgpool): AdaptiveAvgPool1d(output_size=1)\n",
            "  (fc): Linear(in_features=160, out_features=6, bias=True)\n",
            "  (batchnorm1): BatchNorm1d(100, eps=1e-05, momentum=0.1, affine=True, track_running_stats=True)\n",
            "  (batchnorm2): BatchNorm1d(100, eps=1e-05, momentum=0.1, affine=True, track_running_stats=True)\n",
            "  (batchnorm3): BatchNorm1d(160, eps=1e-05, momentum=0.1, affine=True, track_running_stats=True)\n",
            "  (batchnorm4): BatchNorm1d(160, eps=1e-05, momentum=0.1, affine=True, track_running_stats=True)\n",
            "  (batchnorm5): BatchNorm1d(160, eps=1e-05, momentum=0.1, affine=True, track_running_stats=True)\n",
            ")\n"
          ]
        }
      ],
      "source": [
        "# Redefine the model with hyperparameters tuned\n",
        "class MyConvModel(nn.Module):\n",
        "    def __init__(self, time_periods, n_sensors, n_classes, \n",
        "                 nb_conv_layers = 5, activation_function = nn.ReLU(), \n",
        "                 pooling = \"avg\", kernel_size = 5, stride = 1):\n",
        "        super(MyConvModel, self).__init__()\n",
        "        self.time_periods = time_periods\n",
        "        self.n_sensors = n_sensors\n",
        "        self.n_classes = n_classes\n",
        "        self.nb_conv_layers = nb_conv_layers\n",
        "        self.activation_function = activation_function\n",
        "        self.pooling = pooling\n",
        "        self.kernel_size = kernel_size\n",
        "        self.stride = stride\n",
        "\n",
        "        # Input size for the first linear layer\n",
        "        input_size = self.n_sensors\n",
        "\n",
        "        # Create hidden layers with ReLU activation\n",
        "        self.conv_layers = nn.ModuleList() # creates a list of layers\n",
        "        for layer in range(nb_conv_layers):\n",
        "            if layer <= 1:\n",
        "                self.conv_layers.append(nn.Conv1d(input_size, 100,\n",
        "                                                  kernel_size = self.kernel_size,\n",
        "                                                  stride = self.stride,\n",
        "                                                  padding = 5))\n",
        "                #self.conv_layers.append(nn.BatchNorm1d(100))\n",
        "                self.conv_layers.append(activation_function)\n",
        "                input_size = 100 # Update input size for the next layer\n",
        "            else :\n",
        "                self.conv_layers.append(nn.Conv1d(input_size, 160,\n",
        "                                                  kernel_size = self.kernel_size,\n",
        "                                                  stride = self.stride,\n",
        "                                                  padding = 5))\n",
        "                #self.conv_layers.append(nn.BatchNorm1d(160))\n",
        "                self.conv_layers.append(activation_function)\n",
        "                input_size = 160 # Update input size for the next layer\n",
        "\n",
        "        # Pooling and dropout\n",
        "        if pooling == \"max\":\n",
        "            self.pool = nn.MaxPool1d(kernel_size=3)\n",
        "        else :\n",
        "            self.pool = nn.AvgPool1d(kernel_size=3)\n",
        "        self.dropout = nn.Dropout(0.5)\n",
        "\n",
        "        # Adaptive pool layer to adjust the size before sending to fully connected layer\n",
        "        self.avgpool = nn.AdaptiveAvgPool1d(1)\n",
        "\n",
        "        # Fully connected layer\n",
        "        self.fc = nn.Linear(160, n_classes)\n",
        "\n",
        "        # Batch normalization\n",
        "        self.batchnorm1 = nn.BatchNorm1d(100)\n",
        "        self.batchnorm2 = nn.BatchNorm1d(100)\n",
        "        self.batchnorm3 = nn.BatchNorm1d(160)\n",
        "        self.batchnorm4 = nn.BatchNorm1d(160)\n",
        "        self.batchnorm5 = nn.BatchNorm1d(160)\n",
        "\n",
        "    def forward(self, x):\n",
        "        # Reshape the input to (batch_size, n_sensors, time_periods)\n",
        "        x_batch_size = x.size(0)\n",
        "        x = x.reshape(x_batch_size, self.n_sensors, self.time_periods)\n",
        "\n",
        "        # Convolutional layers with ReLU activations\n",
        "        for i, layer in enumerate(self.conv_layers):\n",
        "            x = layer(x)\n",
        "\n",
        "            # Batch normalization\n",
        "            if i==0:\n",
        "                #print(\"layernorm\")\n",
        "                x = self.batchnorm1(x)\n",
        "            elif i==2:\n",
        "                #print(\"layernorm\")\n",
        "                x = self.batchnorm2(x)\n",
        "            elif i==4:\n",
        "                #print(\"layernorm\")\n",
        "                x = self.batchnorm3(x)\n",
        "            elif i==6:\n",
        "                #print(\"layernorm\")\n",
        "                x = self.batchnorm4(x)\n",
        "            elif i==8:\n",
        "                #print(\"layernorm\")\n",
        "                x = self.batchnorm5(x)\n",
        "\n",
        "            # Pooling every 2 layers\n",
        "            if i % 4 == 0 and i != 0 and i < len(self.conv_layers)-1:\n",
        "                x = self.pool(x)\n",
        "\n",
        "        # Global average pooling and dropout\n",
        "        x = self.avgpool(x)\n",
        "        x = self.dropout(x)\n",
        "\n",
        "        # Flatten the tensor for the fully connected layer\n",
        "        x = x.reshape(x_batch_size, -1)\n",
        "\n",
        "        # Output layer with softmax activation\n",
        "        x = self.fc(x)\n",
        "\n",
        "        # output the loss, Use log_softmax for numerical stability\n",
        "        x = F.log_softmax(x, dim=1)\n",
        "        return x\n",
        "    \n",
        "    def predict(self, x):\n",
        "        self.eval()\n",
        "\n",
        "        # Convert numpy array to PyTorch tensor\n",
        "        x_tensor = torch.tensor(x, dtype=torch.float32)\n",
        "\n",
        "        # Perform forward pass to get predictions\n",
        "        with torch.no_grad():\n",
        "          x_tensor = x_tensor.to(device)\n",
        "          probabilities = self.forward(x_tensor)\n",
        "\n",
        "        return probabilities.cpu().numpy()\n",
        "\n",
        "# Assuming TIME_PERIODS, n_sensors, and n_classes are defined\n",
        "model_cnn = MyConvModel(TIME_PERIODS, n_sensors, n_classes)\n",
        "\n",
        "# Move the model to the device (CPU or GPU)\n",
        "model_cnn.to(device)\n",
        "\n",
        "# Print model summary\n",
        "print(model_cnn)"
      ]
    },
    {
      "cell_type": "code",
      "execution_count": 49,
      "id": "5afd3b1b",
      "metadata": {},
      "outputs": [],
      "source": [
        "# Use Pytorch's cross entropy Loss function for a classification task\n",
        "criterion = nn.CrossEntropyLoss()"
      ]
    },
    {
      "cell_type": "code",
      "execution_count": 50,
      "id": "B6FoqgfWoUjh",
      "metadata": {
        "id": "B6FoqgfWoUjh"
      },
      "outputs": [],
      "source": [
        "#BATCH_SIZE = 400\n",
        "EPOCHS = 200\n",
        "\n",
        "# Optimizer\n",
        "my_optimizer = torch.optim.Adam(model_cnn.parameters(), lr=0.001)\n",
        "best_val_loss = float('inf')\n",
        "patience = 100\n",
        "trigger_times = 0\n",
        "\n",
        "# Initialize lists to store losses and accuracies\n",
        "train_losses = []\n",
        "val_losses = []\n",
        "train_accs = []\n",
        "val_accs = []\n",
        "\n",
        "def train_cnn(model, device, num_epochs, my_optimizer):\n",
        "    # Initialize lists to store losses and accuracies\n",
        "    global train_losses, val_losses, train_accs, val_accs, best_val_loss\n",
        "\n",
        "    for epoch in range(num_epochs):\n",
        "        model.train()\n",
        "        running_loss = 0\n",
        "        correct_train = 0\n",
        "        total_train = 0\n",
        "\n",
        "        for inputs, labels in train_loader:\n",
        "            inputs, labels = inputs.to(device), labels.to(device)\n",
        "\n",
        "            my_optimizer.zero_grad()\n",
        "\n",
        "            outputs = model(inputs)\n",
        "            loss = criterion(outputs, labels)\n",
        "            loss.backward()\n",
        "            my_optimizer.step()\n",
        "\n",
        "            running_loss += loss.item()\n",
        "\n",
        "            _, predicted = torch.max(outputs.data, 1)\n",
        "            total_train += labels.size(0)\n",
        "            correct_train += (predicted == labels).sum().item()\n",
        "\n",
        "        train_acc = correct_train/total_train\n",
        "        train_losses.append(running_loss/len(train_loader))\n",
        "        train_accs.append(train_acc)\n",
        "\n",
        "        # Validation\n",
        "        val_acc, val_loss = validate_cnn(model, device)\n",
        "        val_losses.append(val_loss)\n",
        "        val_accs.append(val_acc)\n",
        "\n",
        "        # Print the metrics during training (every 50 epochs)\n",
        "        if epoch % 25 == 0 or epoch == num_epochs - 1:\n",
        "            print(f'Epoch [{epoch + 1}/{num_epochs}], '\n",
        "                  f'Training Loss: {train_losses[-1]:.4f}, Training Accuracy: {train_acc:.4f}, '\n",
        "                  f'Validation Loss: {val_loss:.4f}, Validation Accuracy: {val_acc:.4f}')\n",
        "\n",
        "        # Check for early stopping\n",
        "        if val_loss < best_val_loss:\n",
        "            best_val_loss = val_loss\n",
        "            trigger_times = 0\n",
        "        else:\n",
        "            trigger_times += 1\n",
        "            if trigger_times >= patience:\n",
        "                print(f'Early stopping triggered after {epoch + 1} epochs without improvement.')\n",
        "                break\n",
        "\n",
        "    return train_losses, val_losses, train_accs, val_accs\n",
        "\n",
        "def validate_cnn(model, device):\n",
        "    #raise NotImplementedError\n",
        "    model.eval()\n",
        "    running_loss = 0\n",
        "    correct_val = 0\n",
        "    total_val = 0\n",
        "\n",
        "    with torch.no_grad():\n",
        "        for inputs, labels in val_loader:\n",
        "            inputs, labels = inputs.to(device), labels.to(device)\n",
        "\n",
        "            outputs = model(inputs)\n",
        "            loss = criterion(outputs, labels)\n",
        "            running_loss += loss.item()\n",
        "\n",
        "            _, predicted = torch.max(outputs.data, 1)\n",
        "            total_val += labels.size(0)\n",
        "            correct_val += (predicted == labels).sum().item()\n",
        "\n",
        "    val_acc = correct_val/total_val\n",
        "    val_loss = running_loss/len(val_loader)\n",
        "    return(val_acc, val_loss)"
      ]
    },
    {
      "cell_type": "code",
      "execution_count": 20,
      "id": "ks1eci97o-Cw",
      "metadata": {
        "colab": {
          "base_uri": "https://localhost:8080/",
          "height": 369
        },
        "id": "ks1eci97o-Cw",
        "outputId": "54e505cc-680e-42eb-8687-1a9a2ba595c0"
      },
      "outputs": [
        {
          "name": "stdout",
          "output_type": "stream",
          "text": [
            "Training the model...\n",
            "Epoch [1/200], Training Loss: 0.5534, Training Accuracy: 0.8229, Validation Loss: 0.5707, Validation Accuracy: 0.8230\n",
            "Epoch [26/200], Training Loss: 0.0103, Training Accuracy: 0.9972, Validation Loss: 0.0534, Validation Accuracy: 0.9854\n",
            "Epoch [51/200], Training Loss: 0.0111, Training Accuracy: 0.9969, Validation Loss: 0.0857, Validation Accuracy: 0.9758\n",
            "Epoch [76/200], Training Loss: 0.0017, Training Accuracy: 0.9995, Validation Loss: 0.0374, Validation Accuracy: 0.9911\n",
            "Epoch [101/200], Training Loss: 0.0015, Training Accuracy: 0.9998, Validation Loss: 0.0370, Validation Accuracy: 0.9902\n",
            "Epoch [126/200], Training Loss: 0.0011, Training Accuracy: 0.9998, Validation Loss: 0.0400, Validation Accuracy: 0.9904\n",
            "Epoch [151/200], Training Loss: 0.0014, Training Accuracy: 0.9998, Validation Loss: 0.0347, Validation Accuracy: 0.9914\n",
            "Early stopping triggered after 167 epochs without improvement.\n"
          ]
        },
        {
          "data": {
            "text/plain": [
              "(0.9858648778150455, 0.06180768680166115)"
            ]
          },
          "execution_count": 20,
          "metadata": {},
          "output_type": "execute_result"
        }
      ],
      "source": [
        "print('Training the model...')\n",
        "\n",
        "train_cnn(model_cnn, device, EPOCHS, my_optimizer)\n",
        "validate_cnn(model_cnn, device)"
      ]
    },
    {
      "cell_type": "code",
      "execution_count": 26,
      "id": "3c021bd2",
      "metadata": {
        "execution": {
          "iopub.execute_input": "2023-07-27T09:04:07.276579Z",
          "iopub.status.busy": "2023-07-27T09:04:07.276177Z",
          "iopub.status.idle": "2023-07-27T09:04:07.779862Z",
          "shell.execute_reply": "2023-07-27T09:04:07.778930Z"
        },
        "id": "3c021bd2",
        "papermill": {
          "duration": 0.589565,
          "end_time": "2023-07-27T09:04:07.785178",
          "exception": false,
          "start_time": "2023-07-27T09:04:07.195613",
          "status": "completed"
        },
        "tags": []
      },
      "outputs": [
        {
          "data": {
            "image/png": "[encoded data removed]",
            "text/plain": [
              "<Figure size 1200x400 with 2 Axes>"
            ]
          },
          "metadata": {},
          "output_type": "display_data"
        }
      ],
      "source": [
        "# Losses and accuracy plots\n",
        "def plot_performance(train_losses, val_losses):\n",
        "    # Plot losses\n",
        "    plt.figure(figsize=(12, 4))\n",
        "\n",
        "    plt.subplot(1, 2, 1)\n",
        "    plt.plot(train_losses, label='Training Loss')\n",
        "    plt.plot(val_losses, label='Validation Loss')\n",
        "    plt.xlabel('Epochs')\n",
        "    plt.ylabel('Loss')\n",
        "    plt.title('Training and Validation Losses')\n",
        "    plt.legend()\n",
        "\n",
        "    # Plot accuracies\n",
        "    plt.subplot(1, 2, 2)\n",
        "    plt.plot(train_accs, label='Training Accuracy')\n",
        "    plt.plot(val_accs, label='Validation Accuracy')\n",
        "    plt.xlabel('Epochs')\n",
        "    plt.ylabel('Accuracy')\n",
        "    plt.title('Training and Validation Accuracies')\n",
        "    plt.legend()\n",
        "\n",
        "    plt.tight_layout() # prevent overlapping of subplots\n",
        "    plt.savefig(\"../images/CNN_normalization/CNN_batch_valtrainslosses.png\")\n",
        "    plt.show()\n",
        "\n",
        "plot_performance(train_losses, val_losses)"
      ]
    },
    {
      "cell_type": "code",
      "execution_count": 27,
      "id": "81272afd",
      "metadata": {},
      "outputs": [],
      "source": [
        "test_losses = []\n",
        "test_accs = []\n",
        "\n",
        "def validate_cnn_test(model, device):\n",
        "    #raise NotImplementedError\n",
        "    global test_losses, test_accs\n",
        "    model.eval()\n",
        "    running_loss = 0\n",
        "    correct_test = 0\n",
        "    total_test = 0\n",
        "\n",
        "    with torch.no_grad():\n",
        "        for inputs, labels in test_loader:\n",
        "            inputs, labels = inputs.to(device), labels.to(device)\n",
        "\n",
        "            outputs = model(inputs)\n",
        "            loss = criterion(outputs, labels)\n",
        "            running_loss += loss.item()\n",
        "\n",
        "            _, predicted = torch.max(outputs.data, 1)\n",
        "            total_test += labels.size(0)\n",
        "            correct_test += (predicted == labels).sum().item()\n",
        "\n",
        "    test_acc = correct_test/total_test\n",
        "    test_loss = running_loss/len(test_loader)\n",
        "    return(test_acc, test_loss)\n",
        "\n",
        "test_accs, test_losses = validate_cnn_test(model_cnn, device)"
      ]
    },
    {
      "cell_type": "code",
      "execution_count": 28,
      "id": "8e8c6190",
      "metadata": {},
      "outputs": [
        {
          "name": "stdout",
          "output_type": "stream",
          "text": [
            "Accuracy on test data:  0.3019441069258809\n",
            "Loss on test data:  342.54369623520796\n"
          ]
        }
      ],
      "source": [
        "# normalize test data\n",
        "df_test['x-axis'] = df_test['x-axis'] / df_test['x-axis'].max()\n",
        "df_test['y-axis'] = df_test['y-axis'] / df_test['y-axis'].max()\n",
        "df_test['z-axis'] = df_test['z-axis'] / df_test['z-axis'].max()\n",
        "\n",
        "df_test = df_test.round({'x-axis':4, 'y-axis':4, 'z-axis': 4})\n",
        "\n",
        "x_test, y_test = create_segments_and_labels(df_test,\n",
        "                                            TIME_PERIODS,\n",
        "                                            STEP_DISTANCE,\n",
        "                                            LABEL)\n",
        "\n",
        "x_test = x_test.reshape(x_test.shape[0], input_shape)\n",
        "\n",
        "x_test = x_test.astype('float32')\n",
        "y_test = y_test.astype('float32')\n",
        "\n",
        "y_test = to_categorical(y_test, n_classes)\n",
        "\n",
        "print('Accuracy on test data: ', test_accs) # Final value of the list\n",
        "print('Loss on test data: ', test_losses)"
      ]
    },
    {
      "cell_type": "code",
      "execution_count": 29,
      "id": "701c92d8",
      "metadata": {},
      "outputs": [
        {
          "data": {
            "image/png": "[encoded data removed]",
            "text/plain": [
              "<Figure size 600x400 with 2 Axes>"
            ]
          },
          "metadata": {},
          "output_type": "display_data"
        },
        {
          "name": "stdout",
          "output_type": "stream",
          "text": [
            "              precision    recall  f1-score   support\n",
            "\n",
            "           0       0.63      0.78      0.70       649\n",
            "           1       0.81      0.82      0.81      1988\n",
            "           2       0.73      0.91      0.81       452\n",
            "           3       0.95      0.80      0.87       370\n",
            "           4       0.68      0.69      0.69       726\n",
            "           5       0.91      0.82      0.86      2399\n",
            "\n",
            "    accuracy                           0.81      6584\n",
            "   macro avg       0.79      0.80      0.79      6584\n",
            "weighted avg       0.82      0.81      0.81      6584\n",
            "\n"
          ]
        }
      ],
      "source": [
        "# Confusion matrix on test set\n",
        "def show_confusion_matrix(validations, predictions, title=None):\n",
        "    matrix = metrics.confusion_matrix(validations, predictions)\n",
        "\n",
        "    plt.figure(figsize=(6, 4))\n",
        "    sns.heatmap(matrix,\n",
        "                cmap='coolwarm',\n",
        "                linecolor='white',\n",
        "                linewidths=1,\n",
        "                xticklabels=LABELS,\n",
        "                yticklabels=LABELS,\n",
        "                annot=True,\n",
        "                fmt='d')\n",
        "    if title: plt.title(title)\n",
        "    else: plt.title('Confusion Matrix')\n",
        "    plt.ylabel('True Label')\n",
        "    plt.xlabel('Predicted Label')\n",
        "    plt.tight_layout()\n",
        "    plt.savefig(\"../images/CNN_normalization/CNN_batch_confusionmatrix_test.png\")\n",
        "    plt.show()\n",
        "\n",
        "y_pred_test = model_cnn.predict(x_test)\n",
        "max_y_pred_test = np.argmax(y_pred_test, axis=1)\n",
        "max_y_test = np.argmax(y_test, axis=1)\n",
        "\n",
        "show_confusion_matrix(max_y_test, max_y_pred_test)\n",
        "\n",
        "print(classification_report(max_y_test, max_y_pred_test))"
      ]
    },
    {
      "cell_type": "code",
      "execution_count": 30,
      "id": "76c3dbcd",
      "metadata": {},
      "outputs": [
        {
          "data": {
            "text/plain": [
              "0.8065006075334143"
            ]
          },
          "execution_count": 30,
          "metadata": {},
          "output_type": "execute_result"
        }
      ],
      "source": [
        "from sklearn.metrics import accuracy_score\n",
        "accuracy_score(max_y_test, max_y_pred_test)"
      ]
    },
    {
      "cell_type": "code",
      "execution_count": 51,
      "id": "8a6c59d1",
      "metadata": {},
      "outputs": [
        {
          "name": "stdout",
          "output_type": "stream",
          "text": [
            "MyConvModel(\n",
            "  (activation_function): ReLU()\n",
            "  (conv_layers): ModuleList(\n",
            "    (0): Conv1d(3, 100, kernel_size=(5,), stride=(1,), padding=(5,))\n",
            "    (1): ReLU()\n",
            "    (2): Conv1d(100, 100, kernel_size=(5,), stride=(1,), padding=(5,))\n",
            "    (3): ReLU()\n",
            "    (4): Conv1d(100, 160, kernel_size=(5,), stride=(1,), padding=(5,))\n",
            "    (5): ReLU()\n",
            "    (6): Conv1d(160, 160, kernel_size=(5,), stride=(1,), padding=(5,))\n",
            "    (7): ReLU()\n",
            "    (8): Conv1d(160, 160, kernel_size=(5,), stride=(1,), padding=(5,))\n",
            "    (9): ReLU()\n",
            "  )\n",
            "  (pool): AvgPool1d(kernel_size=(3,), stride=(3,), padding=(0,))\n",
            "  (dropout): Dropout(p=0.5, inplace=False)\n",
            "  (avgpool): AdaptiveAvgPool1d(output_size=1)\n",
            "  (fc): Linear(in_features=160, out_features=6, bias=True)\n",
            "  (layernorm1): LayerNorm((100, 86), eps=1e-05, elementwise_affine=True)\n",
            "  (layernorm2): LayerNorm((100, 92), eps=1e-05, elementwise_affine=True)\n",
            "  (layernorm3): LayerNorm((160, 98), eps=1e-05, elementwise_affine=True)\n",
            "  (layernorm4): LayerNorm((160, 38), eps=1e-05, elementwise_affine=True)\n",
            "  (layernorm5): LayerNorm((160, 44), eps=1e-05, elementwise_affine=True)\n",
            ")\n"
          ]
        }
      ],
      "source": [
        "# Redefine the model with hyperparameters tuned : layer norm\n",
        "class MyConvModel(nn.Module):\n",
        "    def __init__(self, time_periods, n_sensors, n_classes, input_shape = [400, 3, 80],\n",
        "                 nb_conv_layers = 5, activation_function = nn.ReLU(), \n",
        "                 pooling = \"avg\", kernel_size = 5, stride = 1):\n",
        "        super(MyConvModel, self).__init__()\n",
        "        self.time_periods = time_periods\n",
        "        self.n_sensors = n_sensors\n",
        "        self.n_classes = n_classes\n",
        "        self.nb_conv_layers = nb_conv_layers\n",
        "        self.activation_function = activation_function\n",
        "        self.pooling = pooling\n",
        "        self.kernel_size = kernel_size\n",
        "        self.stride = stride\n",
        "\n",
        "        # Input size for the first linear layer\n",
        "        input_size = self.n_sensors\n",
        "\n",
        "        # Create hidden layers with ReLU activation\n",
        "        self.conv_layers = nn.ModuleList() # creates a list of layers\n",
        "        for layer in range(nb_conv_layers):\n",
        "            if layer <= 1:\n",
        "                self.conv_layers.append(nn.Conv1d(input_size, 100,\n",
        "                                                  kernel_size = self.kernel_size,\n",
        "                                                  stride = self.stride,\n",
        "                                                  padding = 5))\n",
        "                input_size = 100 # Update input size for the next layer  \n",
        "                #input_shape = [input_shape[0], input_size, (input_shape[2]-kernel_size+2*5) // stride + 1]\n",
        "                self.conv_layers.append(activation_function)\n",
        "            else :\n",
        "                self.conv_layers.append(nn.Conv1d(input_size, 160,\n",
        "                                                  kernel_size = self.kernel_size,\n",
        "                                                  stride = self.stride,\n",
        "                                                  padding = 5))\n",
        "                input_size = 160 # Update input size for the next layer\n",
        "                #input_shape = [input_shape[0], input_size, (input_shape[2]-kernel_size+2*5) // stride + 1]\n",
        "                #self.conv_layers.append(nn.LayerNorm([input_size, input_shape[2]]))\n",
        "                self.conv_layers.append(activation_function)\n",
        "\n",
        "        # Pooling and dropout\n",
        "        if pooling == \"max\":\n",
        "            self.pool = nn.MaxPool1d(kernel_size=3)\n",
        "        else :\n",
        "            self.pool = nn.AvgPool1d(kernel_size=3)\n",
        "        self.dropout = nn.Dropout(0.5)\n",
        "\n",
        "        # Adaptive pool layer to adjust the size before sending to fully connected layer\n",
        "        self.avgpool = nn.AdaptiveAvgPool1d(1)\n",
        "\n",
        "        # Fully connected layer\n",
        "        self.fc = nn.Linear(160, n_classes)\n",
        "\n",
        "        # Layer norm\n",
        "        self.layernorm1 = nn.LayerNorm([100, 86])\n",
        "        self.layernorm2 = nn.LayerNorm([100, 92])\n",
        "        self.layernorm3 = nn.LayerNorm([160, 98])\n",
        "        self.layernorm4 = nn.LayerNorm([160, 38])\n",
        "        self.layernorm5 = nn.LayerNorm([160, 44])\n",
        "        #self.conv_layers.append(nn.LayerNorm([input_size, input_shape[2]]))\n",
        "\n",
        "        #raise NotImplementedError\n",
        "\n",
        "    def forward(self, x):\n",
        "        # Reshape the input to (batch_size, n_sensors, time_periods)\n",
        "        x_batch_size = x.size(0)\n",
        "        x = x.reshape(x_batch_size, self.n_sensors, self.time_periods)\n",
        "\n",
        "        # Convolutional layers with ReLU activations\n",
        "        for i, layer in enumerate(self.conv_layers):\n",
        "            #print(layer)\n",
        "            x = layer(x)\n",
        "\n",
        "            # Layer normalization\n",
        "            if i==0:\n",
        "                #print(\"layernorm\")\n",
        "                x = self.layernorm1(x)\n",
        "            elif i==2:\n",
        "                #print(\"layernorm\")\n",
        "                x = self.layernorm2(x)\n",
        "            elif i==4:\n",
        "                #print(\"layernorm\")\n",
        "                x = self.layernorm3(x)\n",
        "            elif i==6:\n",
        "                #print(\"layernorm\")\n",
        "                x = self.layernorm4(x)\n",
        "            elif i==8:\n",
        "                #print(\"layernorm\")\n",
        "                x = self.layernorm5(x)\n",
        "\n",
        "            #print(x.shape)\n",
        "            # Pooling every 2 layers\n",
        "            if i % 4 == 0 and i != 0 and i < len(self.conv_layers)-1:\n",
        "                #print(\"pool\")\n",
        "                #print(i)\n",
        "                x = self.pool(x)\n",
        "                #print(x.shape)\n",
        "        #print(\"end\")\n",
        "\n",
        "        # Global average pooling and dropout\n",
        "        x = self.avgpool(x)\n",
        "        x = self.dropout(x)\n",
        "\n",
        "        # Flatten the tensor for the fully connected layer\n",
        "        x = x.reshape(x_batch_size, -1)\n",
        "\n",
        "        # Output layer with softmax activation\n",
        "        x = self.fc(x)\n",
        "\n",
        "        # output the loss, Use log_softmax for numerical stability\n",
        "        x = F.log_softmax(x, dim=1)\n",
        "        return x\n",
        "    \n",
        "    def predict(self, x):\n",
        "        self.eval()\n",
        "\n",
        "        # Convert numpy array to PyTorch tensor\n",
        "        x_tensor = torch.tensor(x, dtype=torch.float32)\n",
        "\n",
        "        # Perform forward pass to get predictions\n",
        "        with torch.no_grad():\n",
        "          x_tensor = x_tensor.to(device)\n",
        "          probabilities = self.forward(x_tensor)\n",
        "\n",
        "        return probabilities.cpu().numpy()\n",
        "\n",
        "# Assuming TIME_PERIODS, n_sensors, and n_classes are defined\n",
        "model_cnn = MyConvModel(TIME_PERIODS, n_sensors, n_classes)\n",
        "\n",
        "# Move the model to the device (CPU or GPU)\n",
        "model_cnn.to(device)\n",
        "\n",
        "# Print model summary\n",
        "print(model_cnn)"
      ]
    },
    {
      "cell_type": "code",
      "execution_count": 52,
      "id": "d8807d8a",
      "metadata": {},
      "outputs": [],
      "source": [
        "#BATCH_SIZE = 400\n",
        "EPOCHS = 200\n",
        "\n",
        "# Optimizer\n",
        "my_optimizer = torch.optim.Adam(model_cnn.parameters(), lr=0.001)\n",
        "best_val_loss = float('inf')\n",
        "patience = 100\n",
        "trigger_times = 0\n",
        "\n",
        "# Initialize lists to store losses and accuracies\n",
        "train_losses = []\n",
        "val_losses = []\n",
        "train_accs = []\n",
        "val_accs = []\n",
        "\n",
        "def train_cnn(model, device, num_epochs, my_optimizer):\n",
        "    # Initialize lists to store losses and accuracies\n",
        "    global train_losses, val_losses, train_accs, val_accs, best_val_loss\n",
        "\n",
        "    for epoch in range(num_epochs):\n",
        "        model.train()\n",
        "        running_loss = 0\n",
        "        correct_train = 0\n",
        "        total_train = 0\n",
        "\n",
        "        for inputs, labels in train_loader:\n",
        "            inputs, labels = inputs.to(device), labels.to(device)\n",
        "\n",
        "            my_optimizer.zero_grad()\n",
        "\n",
        "            outputs = model(inputs)\n",
        "            loss = criterion(outputs, labels)\n",
        "            loss.backward()\n",
        "            my_optimizer.step()\n",
        "\n",
        "            running_loss += loss.item()\n",
        "\n",
        "            _, predicted = torch.max(outputs.data, 1)\n",
        "            total_train += labels.size(0)\n",
        "            correct_train += (predicted == labels).sum().item()\n",
        "\n",
        "        train_acc = correct_train/total_train\n",
        "        train_losses.append(running_loss/len(train_loader))\n",
        "        train_accs.append(train_acc)\n",
        "\n",
        "        # Validation\n",
        "        val_acc, val_loss = validate_cnn(model, device)\n",
        "        val_losses.append(val_loss)\n",
        "        val_accs.append(val_acc)\n",
        "\n",
        "        # Print the metrics during training (every 50 epochs)\n",
        "        if epoch % 25 == 0 or epoch == num_epochs - 1:\n",
        "            print(f'Epoch [{epoch + 1}/{num_epochs}], '\n",
        "                  f'Training Loss: {train_losses[-1]:.4f}, Training Accuracy: {train_acc:.4f}, '\n",
        "                  f'Validation Loss: {val_loss:.4f}, Validation Accuracy: {val_acc:.4f}')\n",
        "\n",
        "        # Check for early stopping\n",
        "        if val_loss < best_val_loss:\n",
        "            best_val_loss = val_loss\n",
        "            trigger_times = 0\n",
        "        else:\n",
        "            trigger_times += 1\n",
        "            if trigger_times >= patience:\n",
        "                print(f'Early stopping triggered after {epoch + 1} epochs without improvement.')\n",
        "                break\n",
        "\n",
        "    return train_losses, val_losses, train_accs, val_accs\n",
        "\n",
        "def validate_cnn(model, device):\n",
        "    #raise NotImplementedError\n",
        "    model.eval()\n",
        "    running_loss = 0\n",
        "    correct_val = 0\n",
        "    total_val = 0\n",
        "\n",
        "    with torch.no_grad():\n",
        "        for inputs, labels in val_loader:\n",
        "            inputs, labels = inputs.to(device), labels.to(device)\n",
        "\n",
        "            outputs = model(inputs)\n",
        "            loss = criterion(outputs, labels)\n",
        "            running_loss += loss.item()\n",
        "\n",
        "            _, predicted = torch.max(outputs.data, 1)\n",
        "            total_val += labels.size(0)\n",
        "            correct_val += (predicted == labels).sum().item()\n",
        "\n",
        "    val_acc = correct_val/total_val\n",
        "    val_loss = running_loss/len(val_loader)\n",
        "    return(val_acc, val_loss)"
      ]
    },
    {
      "cell_type": "code",
      "execution_count": 1,
      "id": "0280d90c",
      "metadata": {},
      "outputs": [
        {
          "data": {
            "text/plain": [
              "0.7780984204131227"
            ]
          },
          "execution_count": 1,
          "metadata": {},
          "output_type": "execute_result"
        }
      ],
      "source": [
        "(201+1792+412+270+425+2023)/6584"
      ]
    },
    {
      "cell_type": "code",
      "execution_count": 53,
      "id": "35b311d3",
      "metadata": {},
      "outputs": [
        {
          "name": "stdout",
          "output_type": "stream",
          "text": [
            "Training the model...\n",
            "Epoch [1/200], Training Loss: 0.9776, Training Accuracy: 0.6678, Validation Loss: 0.6277, Validation Accuracy: 0.7911\n",
            "Epoch [26/200], Training Loss: 0.0258, Training Accuracy: 0.9925, Validation Loss: 0.0493, Validation Accuracy: 0.9832\n",
            "Epoch [51/200], Training Loss: 0.0084, Training Accuracy: 0.9974, Validation Loss: 0.0786, Validation Accuracy: 0.9794\n",
            "Epoch [76/200], Training Loss: 0.0249, Training Accuracy: 0.9923, Validation Loss: 0.0534, Validation Accuracy: 0.9847\n",
            "Epoch [101/200], Training Loss: 0.0016, Training Accuracy: 0.9998, Validation Loss: 0.0453, Validation Accuracy: 0.9887\n",
            "Epoch [126/200], Training Loss: 0.0021, Training Accuracy: 0.9996, Validation Loss: 0.0552, Validation Accuracy: 0.9883\n",
            "Early stopping triggered after 148 epochs without improvement.\n"
          ]
        },
        {
          "data": {
            "text/plain": [
              "(0.986823191183517, 0.054688846015117386)"
            ]
          },
          "execution_count": 53,
          "metadata": {},
          "output_type": "execute_result"
        }
      ],
      "source": [
        "print('Training the model...')\n",
        "\n",
        "train_cnn(model_cnn, device, EPOCHS, my_optimizer)\n",
        "validate_cnn(model_cnn, device)"
      ]
    },
    {
      "cell_type": "code",
      "execution_count": 54,
      "id": "f901d517",
      "metadata": {},
      "outputs": [
        {
          "data": {
            "image/png": "[encoded data removed]",
            "text/plain": [
              "<Figure size 1200x400 with 2 Axes>"
            ]
          },
          "metadata": {},
          "output_type": "display_data"
        }
      ],
      "source": [
        "# Losses and accuracy plots\n",
        "def plot_performance(train_losses, val_losses):\n",
        "    # Plot losses\n",
        "    plt.figure(figsize=(12, 4))\n",
        "\n",
        "    plt.subplot(1, 2, 1)\n",
        "    plt.plot(train_losses, label='Training Loss')\n",
        "    plt.plot(val_losses, label='Validation Loss')\n",
        "    plt.xlabel('Epochs')\n",
        "    plt.ylabel('Loss')\n",
        "    plt.title('Training and Validation Losses')\n",
        "    plt.legend()\n",
        "\n",
        "    # Plot accuracies\n",
        "    plt.subplot(1, 2, 2)\n",
        "    plt.plot(train_accs, label='Training Accuracy')\n",
        "    plt.plot(val_accs, label='Validation Accuracy')\n",
        "    plt.xlabel('Epochs')\n",
        "    plt.ylabel('Accuracy')\n",
        "    plt.title('Training and Validation Accuracies')\n",
        "    plt.legend()\n",
        "\n",
        "    plt.tight_layout() # prevent overlapping of subplots\n",
        "    plt.savefig(\"../images/CNN_normalization/CNN_layer_valtrainslosses.png\")\n",
        "    plt.show()\n",
        "\n",
        "plot_performance(train_losses, val_losses)"
      ]
    },
    {
      "cell_type": "code",
      "execution_count": 55,
      "id": "1225eab3",
      "metadata": {},
      "outputs": [],
      "source": [
        "test_losses = []\n",
        "test_accs = []\n",
        "\n",
        "def validate_cnn_test(model, device):\n",
        "    #raise NotImplementedError\n",
        "    global test_losses, test_accs\n",
        "    model.eval()\n",
        "    running_loss = 0\n",
        "    correct_test = 0\n",
        "    total_test = 0\n",
        "\n",
        "    with torch.no_grad():\n",
        "        for inputs, labels in test_loader:\n",
        "            inputs, labels = inputs.to(device), labels.to(device)\n",
        "\n",
        "            outputs = model(inputs)\n",
        "            loss = criterion(outputs, labels)\n",
        "            running_loss += loss.item()\n",
        "\n",
        "            _, predicted = torch.max(outputs.data, 1)\n",
        "            total_test += labels.size(0)\n",
        "            correct_test += (predicted == labels).sum().item()\n",
        "\n",
        "    test_acc = correct_test/total_test\n",
        "    test_loss = running_loss/len(test_loader)\n",
        "    return(test_acc, test_loss)\n",
        "\n",
        "test_accs, test_losses = validate_cnn_test(model_cnn, device)"
      ]
    },
    {
      "cell_type": "code",
      "execution_count": 56,
      "id": "2228df93",
      "metadata": {},
      "outputs": [
        {
          "name": "stdout",
          "output_type": "stream",
          "text": [
            "Accuracy on test data:  0.3324726609963548\n",
            "Loss on test data:  8.919383792316212\n"
          ]
        }
      ],
      "source": [
        "# normalize test data\n",
        "df_test['x-axis'] = df_test['x-axis'] / df_test['x-axis'].max()\n",
        "df_test['y-axis'] = df_test['y-axis'] / df_test['y-axis'].max()\n",
        "df_test['z-axis'] = df_test['z-axis'] / df_test['z-axis'].max()\n",
        "\n",
        "df_test = df_test.round({'x-axis':4, 'y-axis':4, 'z-axis': 4})\n",
        "\n",
        "x_test, y_test = create_segments_and_labels(df_test,\n",
        "                                            TIME_PERIODS,\n",
        "                                            STEP_DISTANCE,\n",
        "                                            LABEL)\n",
        "\n",
        "x_test = x_test.reshape(x_test.shape[0], input_shape)\n",
        "\n",
        "x_test = x_test.astype('float32')\n",
        "y_test = y_test.astype('float32')\n",
        "\n",
        "y_test = to_categorical(y_test, n_classes)\n",
        "\n",
        "print('Accuracy on test data: ', test_accs) # Final value of the list\n",
        "print('Loss on test data: ', test_losses)"
      ]
    },
    {
      "cell_type": "code",
      "execution_count": 57,
      "id": "7967e880",
      "metadata": {},
      "outputs": [
        {
          "data": {
            "image/png": "[encoded data removed]",
            "text/plain": [
              "<Figure size 600x400 with 2 Axes>"
            ]
          },
          "metadata": {},
          "output_type": "display_data"
        },
        {
          "name": "stdout",
          "output_type": "stream",
          "text": [
            "              precision    recall  f1-score   support\n",
            "\n",
            "           0       0.76      0.78      0.77       649\n",
            "           1       0.83      0.96      0.89      1988\n",
            "           2       0.97      0.95      0.96       452\n",
            "           3       0.99      0.98      0.98       370\n",
            "           4       0.85      0.73      0.79       726\n",
            "           5       0.93      0.84      0.89      2399\n",
            "\n",
            "    accuracy                           0.88      6584\n",
            "   macro avg       0.89      0.88      0.88      6584\n",
            "weighted avg       0.88      0.88      0.88      6584\n",
            "\n"
          ]
        }
      ],
      "source": [
        "# Confusion matrix on test set\n",
        "def show_confusion_matrix(validations, predictions, title=None):\n",
        "    matrix = metrics.confusion_matrix(validations, predictions)\n",
        "\n",
        "    plt.figure(figsize=(6, 4))\n",
        "    sns.heatmap(matrix,\n",
        "                cmap='coolwarm',\n",
        "                linecolor='white',\n",
        "                linewidths=1,\n",
        "                xticklabels=LABELS,\n",
        "                yticklabels=LABELS,\n",
        "                annot=True,\n",
        "                fmt='d')\n",
        "    if title: plt.title(title)\n",
        "    else: plt.title('Confusion Matrix')\n",
        "    plt.ylabel('True Label')\n",
        "    plt.xlabel('Predicted Label')\n",
        "    plt.tight_layout()\n",
        "    plt.savefig(\"../images/CNN_normalization/CNN_layer_confusionmatrix_test.png\")\n",
        "    plt.show()\n",
        "\n",
        "y_pred_test = model_cnn.predict(x_test)\n",
        "max_y_pred_test = np.argmax(y_pred_test, axis=1)\n",
        "max_y_test = np.argmax(y_test, axis=1)\n",
        "\n",
        "show_confusion_matrix(max_y_test, max_y_pred_test)\n",
        "\n",
        "print(classification_report(max_y_test, max_y_pred_test))"
      ]
    }
  ],
  "metadata": {
    "accelerator": "GPU",
    "colab": {
      "gpuType": "T4",
      "provenance": []
    },
    "kernelspec": {
      "display_name": "Python 3",
      "name": "python3"
    },
    "language_info": {
      "codemirror_mode": {
        "name": "ipython",
        "version": 3
      },
      "file_extension": ".py",
      "mimetype": "text/x-python",
      "name": "python",
      "nbconvert_exporter": "python",
      "pygments_lexer": "ipython3",
      "version": "3.12.2"
    },
    "papermill": {
      "default_parameters": {},
      "duration": 184.112445,
      "end_time": "2023-07-27T09:05:32.310009",
      "environment_variables": {},
      "exception": null,
      "input_path": "__notebook__.ipynb",
      "output_path": "__notebook__.ipynb",
      "parameters": {},
      "start_time": "2023-07-27T09:02:28.197564",
      "version": "2.4.0"
    }
  },
  "nbformat": 4,
  "nbformat_minor": 5
}
